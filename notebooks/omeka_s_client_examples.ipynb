{
 "cells": [
  {
   "cell_type": "markdown",
   "id": "bd3daa43",
   "metadata": {},
   "source": [
    "<h3 align=\"center\"></h3>\n",
    "\n",
    "<h1 align=\"center\">Python client for Omeka S API</h1>\n",
    "\n",
    "---\n",
    "\n",
    "<h2 align=\"center\">Usage examples</h2>"
   ]
  },
  {
   "cell_type": "markdown",
   "id": "5ab5ea3c",
   "metadata": {},
   "source": [
    "# Requirements"
   ]
  },
  {
   "cell_type": "code",
   "execution_count": 7,
   "id": "b0b5c175",
   "metadata": {},
   "outputs": [],
   "source": [
    "import sys\n",
    "import os\n",
    "sys.path.append('..')"
   ]
  },
  {
   "cell_type": "code",
   "execution_count": null,
   "id": "65465168",
   "metadata": {},
   "outputs": [],
   "source": [
    "from omeka_s_client import OmekaSClient,OmekaSClientError\n",
    "import json\n",
    "import logging"
   ]
  },
  {
   "cell_type": "markdown",
   "id": "28bd13e7",
   "metadata": {},
   "source": [
    "# Examples"
   ]
  },
  {
   "cell_type": "code",
   "execution_count": null,
   "id": "95d52724",
   "metadata": {},
   "outputs": [],
   "source": [
    "OMEKA_URL = \"https://humazur.univ-cotedazur.fr\"\n",
    "API_KEY_IDENTITY = \"...\"  # Set to the identity of the API key you want to use\n",
    "API_KEY_CREDENTIAL = \"...\" # Set to the credential of the API key you want to use\n",
    "logging.getLogger().setLevel(logging.INFO) # Set to DEBUG for more detail"
   ]
  },
  {
   "cell_type": "code",
   "execution_count": 13,
   "id": "4ca61e94",
   "metadata": {},
   "outputs": [
    {
     "name": "stderr",
     "output_type": "stream",
     "text": [
      "2025-04-22 10:14:58,885 - INFO - OmekaClient initialized for API: https://humazur.univ-cotedazur.fr/api\n",
      "2025-04-22 10:14:58,887 - INFO - Using API Key Identity.\n"
     ]
    },
    {
     "name": "stdout",
     "output_type": "stream",
     "text": [
      "\n",
      "--- Testing Convenience Methods ---\n"
     ]
    }
   ],
   "source": [
    "client = OmekaSClient(OMEKA_URL, API_KEY_IDENTITY, API_KEY_CREDENTIAL, default_per_page=50)\n",
    "\n",
    "# --- Test Convenience Methods ---\n",
    "print(\"\\n--- Testing Convenience Methods ---\")"
   ]
  },
  {
   "cell_type": "markdown",
   "id": "e4e3c780",
   "metadata": {},
   "source": [
    "## Items"
   ]
  },
  {
   "cell_type": "code",
   "execution_count": null,
   "id": "9c5805b3",
   "metadata": {},
   "outputs": [
    {
     "name": "stdout",
     "output_type": "stream",
     "text": [
      "Item 1 ID: 6\n",
      "Item 1 Title: Jubilé de diamant de la reine Victoria (1897)\n"
     ]
    }
   ],
   "source": [
    "# Get one item to test the client\n",
    "try:\n",
    "    item1 = client.get_item(6)\n",
    "    print(f\"Item 1 ID: {item1.get('o:id', 'N/A')}\")\n",
    "    print(f\"Item 1 Title: {item1.get('dcterms:title', [{}])[0].get('@value', 'N/A')}\")\n",
    "except OmekaSClientError as e:\n",
    "    print(f\"Error getting item 1: {e}\")"
   ]
  },
  {
   "cell_type": "code",
   "execution_count": 16,
   "id": "2efa5446",
   "metadata": {},
   "outputs": [
    {
     "name": "stdout",
     "output_type": "stream",
     "text": [
      "Number of items: 10\n",
      "Item ID: 6\n",
      "Item Title: Jubilé de diamant de la reine Victoria (1897)\n",
      "Item ID: 7\n",
      "Item Title: 1897\n",
      "Item ID: 42\n",
      "Item Title: [Sans titre]\n",
      "Item ID: 43\n",
      "Item Title: [Sans titre]\n",
      "Item ID: 44\n",
      "Item Title: [Sans titre]\n",
      "Item ID: 45\n",
      "Item Title: [Sans titre]\n",
      "Item ID: 46\n",
      "Item Title: [Sans titre]\n",
      "Item ID: 47\n",
      "Item Title: [Sans titre]\n",
      "Item ID: 48\n",
      "Item Title: [Sans titre]\n",
      "Item ID: 49\n",
      "Item Title: [Sans titre]\n"
     ]
    }
   ],
   "source": [
    "# List items of a 10 page result set\n",
    "try:\n",
    "    items = client.list_items(page=1, per_page=10)\n",
    "    print(f\"Number of items: {len(items)}\")\n",
    "    for item in items:\n",
    "        print(f\"Item ID: {item.get('o:id', 'N/A')}\")\n",
    "        print(f\"Item Title: {item.get('dcterms:title', [{}])[0].get('@value', 'N/A')}\")\n",
    "except OmekaSClientError as e:\n",
    "    print(f\"Error getting items: {e}\")"
   ]
  },
  {
   "cell_type": "markdown",
   "id": "3da8740c",
   "metadata": {},
   "source": [
    "## Collections"
   ]
  },
  {
   "cell_type": "code",
   "execution_count": 17,
   "id": "b31f472c",
   "metadata": {},
   "outputs": [
    {
     "name": "stderr",
     "output_type": "stream",
     "text": [
      "2025-04-22 10:19:43,191 - INFO - Starting full fetch for endpoint 'item_sets' with initial params: {}\n",
      "2025-04-22 10:19:43,194 - INFO - Fetching page 1 from: https://humazur.univ-cotedazur.fr/api/item_sets with params: {'key_identity': 'I1G60XlaMYj2JaAUc3U7rtkiX3HIH9sT', 'key_credential': 'k65WDA9HtGGq2eBKu2oEQFR644gMUg3O', 'per_page': 50}\n",
      "2025-04-22 10:19:43,665 - INFO - Finished full fetch for 'item_sets'. Total resources: 38\n"
     ]
    },
    {
     "name": "stdout",
     "output_type": "stream",
     "text": [
      "Fetched 38 total item sets (collections).\n",
      "Collection ID: 3\n",
      "Collection title: Photothèque ASEMI\n",
      "Collection ID: 12\n",
      "Collection title: Émile Gsell\n",
      "Collection ID: 59\n",
      "Collection title: Cartothèque ASEMI\n",
      "Collection ID: 61\n",
      "Collection title: Mai 1968\n",
      "Collection ID: 519\n",
      "Collection title: Indochine française\n",
      "Collection ID: 523\n",
      "Collection title: Exposition coloniale (1931 ; Paris)\n",
      "Collection ID: 525\n",
      "Collection title: Henri Bosco\n",
      "Collection ID: 529\n",
      "Collection title: Bibliothèque personnelle Henri Bosco\n",
      "Collection ID: 725\n",
      "Collection title: Ouvrages et manuscrits juridiques du 16e au 19e siècles\n",
      "Collection ID: 726\n",
      "Collection title: Institut d’Études Juridiques\n",
      "Collection ID: 763\n",
      "Collection title: Louis Dumoulin\n",
      "Collection ID: 792\n",
      "Collection title: Japon\n",
      "Collection ID: 831\n",
      "Collection title: Manuscrits d'Henri Bosco\n",
      "Collection ID: 832\n",
      "Collection title: Maroc et Afrique du Nord\n",
      "Collection ID: 837\n",
      "Collection title: Provence\n",
      "Collection ID: 839\n",
      "Collection title: Archéologie\n",
      "Collection ID: 840\n",
      "Collection title: Edgar Quinet\n",
      "Collection ID: 841\n",
      "Collection title: Correspondances d'Edgar Quinet\n",
      "Collection ID: 842\n",
      "Collection title: Panaït Istrati\n",
      "Collection ID: 844\n",
      "Collection title: Pavel et Clara Thalmann\n",
      "Collection ID: 847\n",
      "Collection title: René Schwob\n",
      "Collection ID: 875\n",
      "Collection title: Corée\n",
      "Collection ID: 1058\n",
      "Collection title: Ideric\n",
      "Collection ID: 2145\n",
      "Collection title: Mémoires du Service géologique de l'Indochine\n",
      "Collection ID: 5066\n",
      "Collection title: Georges Azambre\n",
      "Collection ID: 5753\n",
      "Collection title: Joaquim Antonio\n",
      "Collection ID: 5835\n",
      "Collection title: Vie des campus\n",
      "Collection ID: 6627\n",
      "Collection title: Indonésie\n",
      "Collection ID: 7203\n",
      "Collection title: Sri Lanka\n",
      "Collection ID: 7205\n",
      "Collection title: Inde\n",
      "Collection ID: 7208\n",
      "Collection title: N. V. Abbayeradjou\n",
      "Collection ID: 8599\n",
      "Collection title: Chine\n",
      "Collection ID: 8686\n",
      "Collection title: Siam\n",
      "Collection ID: 8800\n",
      "Collection title: Paul Guilleminet\n",
      "Collection ID: 19142\n",
      "Collection title: Michel Marot - Construction de la Villa Arson\n",
      "Collection ID: 19410\n",
      "Collection title: Panaït Istrati photographe\n",
      "Collection ID: 25267\n",
      "Collection title: Singapour\n",
      "Collection ID: 25268\n",
      "Collection title: Madagascar\n"
     ]
    }
   ],
   "source": [
    "# List aa collections\n",
    "try:\n",
    "    all_collections = client.list_all_item_sets(per_page=50) # Smaller per_page for demo\n",
    "    print(f\"Fetched {len(all_collections)} total item sets (collections).\")\n",
    "    if all_collections:\n",
    "      for collection in all_collections:\n",
    "          print(\"Collection ID:\", collection.get('o:id'))\n",
    "          print(\"Collection title:\", collection.get('dcterms:title', [{}])[0].get('@value', 'N/A'))\n",
    "except OmekaSClientError as e:\n",
    "    print(f\"Error listing all item sets: {e}\")"
   ]
  },
  {
   "cell_type": "code",
   "execution_count": 19,
   "id": "397f25c6",
   "metadata": {},
   "outputs": [
    {
     "name": "stderr",
     "output_type": "stream",
     "text": [
      "2025-04-22 10:24:50,940 - INFO - Starting full fetch for endpoint 'items' with initial params: {'item_set_id': 12}\n",
      "2025-04-22 10:24:50,950 - INFO - Fetching page 1 from: https://humazur.univ-cotedazur.fr/api/items with params: {'key_identity': 'I1G60XlaMYj2JaAUc3U7rtkiX3HIH9sT', 'key_credential': 'k65WDA9HtGGq2eBKu2oEQFR644gMUg3O', 'per_page': 10, 'item_set_id': 12}\n",
      "2025-04-22 10:24:51,434 - INFO - Fetching page 2 from: https://humazur.univ-cotedazur.fr/api/items?key_identity=I1G60XlaMYj2JaAUc3U7rtkiX3HIH9sT&key_credential=k65WDA9HtGGq2eBKu2oEQFR644gMUg3O&per_page=10&item_set_id=12&sort_by=id&sort_order=asc&page=2 with params: {'key_identity': 'I1G60XlaMYj2JaAUc3U7rtkiX3HIH9sT', 'key_credential': 'k65WDA9HtGGq2eBKu2oEQFR644gMUg3O'}\n",
      "2025-04-22 10:24:51,883 - INFO - Fetching page 3 from: https://humazur.univ-cotedazur.fr/api/items?key_identity=I1G60XlaMYj2JaAUc3U7rtkiX3HIH9sT&key_credential=k65WDA9HtGGq2eBKu2oEQFR644gMUg3O&per_page=10&item_set_id=12&sort_by=id&sort_order=asc&page=3 with params: {'key_identity': 'I1G60XlaMYj2JaAUc3U7rtkiX3HIH9sT', 'key_credential': 'k65WDA9HtGGq2eBKu2oEQFR644gMUg3O'}\n",
      "2025-04-22 10:24:52,381 - INFO - Fetching page 4 from: https://humazur.univ-cotedazur.fr/api/items?key_identity=I1G60XlaMYj2JaAUc3U7rtkiX3HIH9sT&key_credential=k65WDA9HtGGq2eBKu2oEQFR644gMUg3O&per_page=10&item_set_id=12&sort_by=id&sort_order=asc&page=4 with params: {'key_identity': 'I1G60XlaMYj2JaAUc3U7rtkiX3HIH9sT', 'key_credential': 'k65WDA9HtGGq2eBKu2oEQFR644gMUg3O'}\n",
      "2025-04-22 10:24:52,891 - INFO - Fetching page 5 from: https://humazur.univ-cotedazur.fr/api/items?key_identity=I1G60XlaMYj2JaAUc3U7rtkiX3HIH9sT&key_credential=k65WDA9HtGGq2eBKu2oEQFR644gMUg3O&per_page=10&item_set_id=12&sort_by=id&sort_order=asc&page=5 with params: {'key_identity': 'I1G60XlaMYj2JaAUc3U7rtkiX3HIH9sT', 'key_credential': 'k65WDA9HtGGq2eBKu2oEQFR644gMUg3O'}\n",
      "2025-04-22 10:24:53,385 - INFO - Fetching page 6 from: https://humazur.univ-cotedazur.fr/api/items?key_identity=I1G60XlaMYj2JaAUc3U7rtkiX3HIH9sT&key_credential=k65WDA9HtGGq2eBKu2oEQFR644gMUg3O&per_page=10&item_set_id=12&sort_by=id&sort_order=asc&page=6 with params: {'key_identity': 'I1G60XlaMYj2JaAUc3U7rtkiX3HIH9sT', 'key_credential': 'k65WDA9HtGGq2eBKu2oEQFR644gMUg3O'}\n",
      "2025-04-22 10:24:53,849 - INFO - Fetching page 7 from: https://humazur.univ-cotedazur.fr/api/items?key_identity=I1G60XlaMYj2JaAUc3U7rtkiX3HIH9sT&key_credential=k65WDA9HtGGq2eBKu2oEQFR644gMUg3O&per_page=10&item_set_id=12&sort_by=id&sort_order=asc&page=7 with params: {'key_identity': 'I1G60XlaMYj2JaAUc3U7rtkiX3HIH9sT', 'key_credential': 'k65WDA9HtGGq2eBKu2oEQFR644gMUg3O'}\n",
      "2025-04-22 10:24:54,340 - INFO - Finished full fetch for 'items'. Total resources: 70\n"
     ]
    },
    {
     "name": "stdout",
     "output_type": "stream",
     "text": [
      "Fetched 70 total items for item_set 12.\n",
      "[57, 520, 729, 730, 734, 736, 1667, 2245, 2247, 2249, 2251, 2254, 2256, 2258, 2260, 2262, 2264, 2270, 2274, 2277, 2279, 2281, 2283, 2285, 2287, 2289, 2291, 2293, 2295, 2297, 2299, 2301, 2303, 2305, 2307, 2310, 2312, 2314, 2316, 2318, 2320, 2322, 2325, 2328, 2331, 2334, 2336, 2338, 2340, 2342, 2346, 2348, 2350, 2352, 2355, 2357, 2359, 2361, 2363, 2366, 2368, 2370, 2372, 2374, 2376, 2378, 2380, 2383, 2385, 2387]\n"
     ]
    }
   ],
   "source": [
    "# List all items ID of Emile Gsell collection\n",
    "\n",
    "gsell_ids = []\n",
    "try:\n",
    "  all_items = client.list_all_items(per_page=10, item_set_id=12) # Smaller per_page for demo\n",
    "  print(f\"Fetched {len(all_items)} total items for item_set 12.\")\n",
    "  if all_items:\n",
    "    for item in all_items:\n",
    "        gsell_ids.append(item.get('o:id'))\n",
    "except OmekaSClientError as e:\n",
    "  print(f\"Error listing all item sets: {e}\")\n",
    "print(gsell_ids)"
   ]
  },
  {
   "cell_type": "markdown",
   "id": "146fec2c",
   "metadata": {},
   "source": [
    "## Medias"
   ]
  },
  {
   "cell_type": "code",
   "execution_count": 22,
   "id": "378448e1",
   "metadata": {},
   "outputs": [
    {
     "name": "stdout",
     "output_type": "stream",
     "text": [
      "Fetched 10 total medias.\n",
      "Media ID: 72\n",
      "Media title: FLUF\n",
      "Media URL: https://humazur.univ-cotedazur.fr/files/original/8f530d094a94ca3e0cbc3fb3e1185656e6a50227.jpg\n",
      "--------------------\n",
      "Media ID: 74\n",
      "Media title: Tract du groupe Makhno des Jeunesses anarchistes_2\n",
      "Media URL: https://humazur.univ-cotedazur.fr/files/original/d7cbdd69fb56ddfafd6137226bb6e0a883b0ed88.jpg\n",
      "--------------------\n",
      "Media ID: 75\n",
      "Media title: Tract du groupe Makhno des Jeunesses anarchistes_1\n",
      "Media URL: https://humazur.univ-cotedazur.fr/files/original/d7f5bee32cfab3ad805320d16e40b922083c2fc6.jpg\n",
      "--------------------\n",
      "Media ID: 77\n",
      "Media title: UEC Invitation 22 mai\n",
      "Media URL: https://humazur.univ-cotedazur.fr/files/original/d0ad70569dfd55f57c125824a311501a21ea2c06.jpg\n",
      "--------------------\n",
      "Media ID: 79\n",
      "Media title: Commission culturelle UGEN-UNEF, 23 mai\n",
      "Media URL: https://humazur.univ-cotedazur.fr/files/original/bdf7918465a996dc363ed29e7e7810b3bb9f67fe.jpg\n",
      "--------------------\n",
      "Media ID: 81\n",
      "Media title: Consigne en cas d'arrestation\n",
      "Media URL: https://humazur.univ-cotedazur.fr/files/original/1d25f85393768f01cae79fb7351b2d18e8870d0c.jpg\n",
      "--------------------\n",
      "Media ID: 83\n",
      "Media title: Halte au fascisme\n",
      "Media URL: https://humazur.univ-cotedazur.fr/files/original/dabf048988fb72cc0dded538f63335bed89a4675.jpg\n",
      "--------------------\n",
      "Media ID: 85\n",
      "Media title: Antecrible.001\n",
      "Media URL: https://humazur.univ-cotedazur.fr/files/original/86b283a3de17eb5a33ff4b77cee24ecb8f564bb2.jpg\n",
      "--------------------\n",
      "Media ID: 86\n",
      "Media title: Antecrible.002\n",
      "Media URL: https://humazur.univ-cotedazur.fr/files/original/56b9b485c9df8fe1c73daf99d70ea7e078d23ec1.jpg\n",
      "--------------------\n",
      "Media ID: 87\n",
      "Media title: Antecrible.003\n",
      "Media URL: https://humazur.univ-cotedazur.fr/files/original/df52482193632780abf90a56f4e0f6ea879d332e.jpg\n",
      "--------------------\n"
     ]
    }
   ],
   "source": [
    "# List one page medias\n",
    "try:\n",
    "  one_page_medias = client.list_media(per_page=10) # Smaller per_page for demo\n",
    "  print(f\"Fetched {len(one_page_medias)} total medias.\")\n",
    "  if one_page_medias:\n",
    "    for media in one_page_medias:\n",
    "        print(\"Media ID:\", media.get('o:id'))\n",
    "        print(\"Media title:\", media.get('dcterms:title', [{}])[0].get('@value', 'N/A'))\n",
    "        print(\"Media URL:\", media.get('o:original_url', 'N/A'))\n",
    "        print(\"-\" * 20)\n",
    "except OmekaSClientError as e:\n",
    "  print(f\"Error listing all item sets: {e}\")"
   ]
  },
  {
   "cell_type": "code",
   "execution_count": 23,
   "id": "c10a0cf6",
   "metadata": {},
   "outputs": [
    {
     "name": "stdout",
     "output_type": "stream",
     "text": [
      "Item Title: Jubilé de diamant de la reine Victoria (1897)\n",
      "Media title: jubile-yokohama\n",
      "Media URL: https://humazur.univ-cotedazur.fr/files/original/cf64fcefede1078702485061aa99554e1ae0cf50.jpg\n"
     ]
    }
   ],
   "source": [
    "# Image media of an item\n",
    "try:\n",
    "    item = client.get_item(6)\n",
    "    print(f\"Item Title: {item.get('dcterms:title', [{}])[0].get('@value', 'N/A')}\")\n",
    "    medias_id = [x[\"o:id\"] for x in item[\"o:media\"]]\n",
    "    for media_id in medias_id:\n",
    "        media = client.get_media(media_id)\n",
    "        if \"image\" in media[\"o:media_type\"]:\n",
    "            print(f\"Media title: {media.get('dcterms:title', [{}])[0].get('@value', 'N/A')}\")\n",
    "            print(f\"Media URL: {media.get('o:original_url', 'N/A')}\")\n",
    "except OmekaSClientError as e:\n",
    "    print(f\"Error getting item 1: {e}\")"
   ]
  },
  {
   "cell_type": "markdown",
   "id": "7d1cff48",
   "metadata": {},
   "source": [
    "## Digest data"
   ]
  },
  {
   "cell_type": "code",
   "execution_count": 24,
   "id": "e068785f",
   "metadata": {},
   "outputs": [
    {
     "name": "stdout",
     "output_type": "stream",
     "text": [
      "\n",
      "Parsed Item Data (dcterms:, bibo:, bio:):\n",
      "{\n",
      "  \"item_id\": 2547,\n",
      "  \"Type\": \"Photographie\",\n",
      "  \"Title\": \"Pagode chinoise \\u00e0 Ch\\u00f3lon\",\n",
      "  \"Creator\": \"Gsell, \\u00c9mile (1838-1879)\",\n",
      "  \"Publisher\": \"Studio photographique Gsell (Saigon)\",\n",
      "  \"Date\": \"1875-1879\",\n",
      "  \"Subject\": \"Temples|Chinois -- Indochine fran\\u00e7aise\",\n",
      "  \"Spatial\": \"Cholon (Vietnam)\",\n",
      "  \"Format\": \"1 fichier JPEG (1,55 Mo)\",\n",
      "  \"Medium\": \"\\u00c9preuve \\u00e0 l'albumine sur papier montage sur carton|17*22 cm\",\n",
      "  \"Provenance\": \"Biblioth\\u00e8que de l'ancien Mus\\u00e9e des colonies (Paris)\",\n",
      "  \"Locator\": \"PH02-134\",\n",
      "  \"Identifier\": \"ark:/17103/17kk\",\n",
      "  \"Description\": \"Selon Philippe Franchini, cette photographie montre le temple appel\\u00e9 Pagode des Sept Congr\\u00e9gations (That Phu Vo De Mieu), d\\u00e9di\\u00e9 \\u00e0 Thien Hau et \\u00e9difi\\u00e9 \\u00e0 Cholon en 1822 par l'ensemble des immigr\\u00e9s chinois du Vietnam. Son emplacement n'est pas identifi\\u00e9. L'immigration chinoise dans le sud du Vietnam est ancienne et les autorit\\u00e9s fran\\u00e7aises l'ont encourag\\u00e9e. Au moment de leur arriv\\u00e9e, les immigrants chinois \\u00e9taient pris en charge et int\\u00e9gr\\u00e9s dans des congr\\u00e9gations. D'abord organis\\u00e9es sur la base de l'origine g\\u00e9ographique, puis sur celle d'un dialecte commun, les congr\\u00e9gations r\\u00e9pondaient de la solvabilit\\u00e9 fiscale de leurs compatriotes. Il en existait originellement sept, elles furent r\\u00e9duites \\u00e0 cinq \\u00e0 partir de 1885.|Sources de la description : texte de Philippe Franchini in Fontbrune, Loan de (dir.), Les premiers photographes au Vi\\u00eat Nam, Acad\\u00e9mie des sciences d'outre-mer & Riveneuve \\u00e9ditions, 2015, p. 108 (pour l'historique du temple) ; texte de Philippe Franchini in Franchini, Philippe ; Ghesqui\\u00e8re, J\\u00e9r\\u00f4me (dir.), Des photographes en Indochine. Tonkin, Annam, Cochinchine, Cambodge et Laos au XIXe si\\u00e8cle, Marval & R\\u00e9union des mus\\u00e9es nationaux, 2001, p. 139 (pour l'histoire des congr\\u00e9gations).\"\n",
      "}\n"
     ]
    }
   ],
   "source": [
    "item_id_to_parse = 2547\n",
    "try:\n",
    "  item_data = client.get_item(item_id_to_parse)\n",
    "  # Use the static method to parse\n",
    "  #parsed_item = OmekaClient.nomic_parse_item_data(item_data)\n",
    "  digest_item = OmekaSClient.digest_item_data(item_data, prefixes=OmekaSClient._DEFAULT_PARSE_METADATA) # or prefixes=OmekaSClient._DEFAULT_PARSE_PREFIXES\n",
    "  if digest_item:\n",
    "        print(\"\\nParsed Item Data (dcterms:, bibo:, bio:):\")\n",
    "        print(json.dumps(digest_item, indent=2))\n",
    "  else:\n",
    "        print(\"\\nItem could not be parsed.\")\n",
    "except OmekaSClientError as e:\n",
    "  print(f\"\\nError fetching item {item_id_to_parse}: {e}\")"
   ]
  },
  {
   "cell_type": "code",
   "execution_count": null,
   "id": "19d07426",
   "metadata": {},
   "outputs": [],
   "source": []
  }
 ],
 "metadata": {
  "kernelspec": {
   "display_name": ".venv",
   "language": "python",
   "name": "python3"
  },
  "language_info": {
   "codemirror_mode": {
    "name": "ipython",
    "version": 3
   },
   "file_extension": ".py",
   "mimetype": "text/x-python",
   "name": "python",
   "nbconvert_exporter": "python",
   "pygments_lexer": "ipython3",
   "version": "3.12.4"
  }
 },
 "nbformat": 4,
 "nbformat_minor": 5
}
