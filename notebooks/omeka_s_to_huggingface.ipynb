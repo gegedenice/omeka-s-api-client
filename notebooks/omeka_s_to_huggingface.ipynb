{
 "cells": [
  {
   "cell_type": "markdown",
   "id": "8222eec6",
   "metadata": {},
   "source": [
    "<h3 align=\"center\"></h3>\n",
    "\n",
    "<h1 align=\"center\">Use case : HuggingFace dataset of Omeka S collection's items</h1>\n",
    "\n",
    "---\n",
    "\n",
    "<h2 align=\"center\">Example : <a href=\"https://huggingface.co/datasets/Geraldine/Humazur-collection-Chine\">https://huggingface.co/datasets/Geraldine/Humazur-collection-Chine</a></h2>"
   ]
  },
  {
   "cell_type": "markdown",
   "id": "56af96bc",
   "metadata": {},
   "source": [
    "# Requirements"
   ]
  },
  {
   "cell_type": "code",
   "execution_count": 1,
   "id": "8b5ffad0",
   "metadata": {},
   "outputs": [],
   "source": [
    "import sys\n",
    "import os\n",
    "sys.path.append('..')"
   ]
  },
  {
   "cell_type": "code",
   "execution_count": null,
   "id": "a374cd42",
   "metadata": {},
   "outputs": [],
   "source": [
    "import pandas as pd\n",
    "from PIL import Image\n",
    "import requests\n",
    "import io\n",
    "import json\n",
    "import math\n",
    "import logging\n",
    "from urllib.parse import urlparse, parse_qs\n",
    "from huggingface_hub import login, whoami\n",
    "from omeka_s_client import OmekaSClient,OmekaSClientError\n",
    "from datasets import Dataset"
   ]
  },
  {
   "cell_type": "markdown",
   "id": "b6a8b0c7",
   "metadata": {},
   "source": [
    "# Configuration"
   ]
  },
  {
   "cell_type": "code",
   "execution_count": null,
   "id": "0b1fbd98",
   "metadata": {},
   "outputs": [],
   "source": [
    "OMEKA_URL = \"https://humazur.univ-cotedazur.fr\"\n",
    "API_KEY_IDENTITY = \"...\"\n",
    "API_KEY_CREDENTIAL = \"...\"\n",
    "\n",
    "HF_TOKEN = \"...\"\n",
    "logging.getLogger().setLevel(logging.INFO)"
   ]
  },
  {
   "cell_type": "code",
   "execution_count": 4,
   "id": "5cf77e2c",
   "metadata": {},
   "outputs": [
    {
     "name": "stderr",
     "output_type": "stream",
     "text": [
      "2025-04-22 11:02:34,795 - INFO - OmekaClient initialized for API: https://humazur.univ-cotedazur.fr/api\n",
      "2025-04-22 11:02:34,795 - INFO - Using API Key Identity.\n"
     ]
    }
   ],
   "source": [
    "client = OmekaSClient(OMEKA_URL, API_KEY_IDENTITY, API_KEY_CREDENTIAL, default_per_page=50)\n",
    "prefixes = OmekaSClient._DEFAULT_PARSE_METADATA"
   ]
  },
  {
   "cell_type": "code",
   "execution_count": null,
   "id": "8212452c",
   "metadata": {},
   "outputs": [],
   "source": [
    "# Log to HuggingFace with your token (needs to have write permission)\n",
    "login(token = HF_TOKEN)\n",
    "whoami()"
   ]
  },
  {
   "cell_type": "markdown",
   "id": "1f5d8d5d",
   "metadata": {},
   "source": [
    "# Helpers"
   ]
  },
  {
   "cell_type": "code",
   "execution_count": 5,
   "id": "59489043",
   "metadata": {},
   "outputs": [],
   "source": [
    "def image_url_to_pil(url: str, max_size=(512, 512)) -> Image:\n",
    "    \"\"\"\n",
    "    Ex usage : image_blobs = df[\"image_url\"].apply(image_url_to_pil).tolist()\n",
    "    \"\"\"\n",
    "    response = requests.get(url, stream=True, timeout=5)\n",
    "    response.raise_for_status()\n",
    "    image = Image.open(io.BytesIO(response.content)).convert(\"RGB\")\n",
    "    image.thumbnail(max_size, Image.Resampling.LANCZOS)\n",
    "    return image\n",
    "\n",
    "def reorder_columns(df,cols_list,position='first'):\n",
    "    # Make sure they actually exist in the dataframe\n",
    "    selected_columns = [col for col in cols_list if col in df.columns]\n",
    "    # Get the remaining columns (excluding the ones above)\n",
    "    remaining_columns = [col for col in df.columns if col not in selected_columns]\n",
    "    if position==\"first\":\n",
    "        new_column_order = selected_columns + remaining_columns\n",
    "        # Reorder the DataFrame\n",
    "    elif position == \"last\":\n",
    "        new_column_order = remaining_columns + selected_columns\n",
    "    else:\n",
    "        raise ValueError(\"position must be 'first' or 'last'\")\n",
    "    df = df[new_column_order]\n",
    "    return df"
   ]
  },
  {
   "cell_type": "markdown",
   "id": "796987ef",
   "metadata": {},
   "source": [
    "# Harvest & generate dataset"
   ]
  },
  {
   "cell_type": "markdown",
   "id": "cd56f0c6",
   "metadata": {},
   "source": [
    "The dataset will contains all image medias urls for each item."
   ]
  },
  {
   "cell_type": "code",
   "execution_count": 6,
   "id": "693fe344",
   "metadata": {},
   "outputs": [],
   "source": [
    "def generate_dataset(item_set_id=None,prefixes=prefixes,per_page=50):\n",
    "    print(\"\\n--- Fetching and Parsing Multiple Items by colection---\")\n",
    "    try:\n",
    "        # Fetch first 5 items\n",
    "        items_list = client.list_all_items(item_set_id=item_set_id, per_page=per_page)\n",
    "        print(f\"Fetched {len(items_list)} items.\")\n",
    "\n",
    "        parsed_items_list = []\n",
    "        for item_raw in items_list:\n",
    "            if 'o:media' in item_raw:\n",
    "                parsed = OmekaSClient.digest_item_data(item_raw, prefixes=prefixes)\n",
    "                if parsed: # Only add if parsing was successful\n",
    "                    # Add media\n",
    "                    medias_id = [x[\"o:id\"] for x in item_raw[\"o:media\"]]\n",
    "                    medias_list = []\n",
    "                    for media_id in medias_id:\n",
    "                        media = client.get_media(media_id)\n",
    "                        if \"image\" in media[\"o:media_type\"]:\n",
    "                          medias_list.append(media.get('o:original_url'))\n",
    "                    if medias_list: # Only append if there are image URLs\n",
    "                      parsed[\"images_urls\"] = medias_list\n",
    "                      parsed_items_list.append(parsed)\n",
    "                      print(f\"Successfully parsed {len(parsed_items_list)} items.\")\n",
    "\n",
    "                print(f\"Successfully parsed {len(parsed_items_list)} items.\")\n",
    "        # Note: List columns (like dcterms:title) might need further handling in Pandas\n",
    "        print(\"\\nDataFrame from parsed items:\")\n",
    "        return pd.DataFrame(parsed_items_list)\n",
    "\n",
    "    except OmekaSClientError as e:\n",
    "        print(f\"Error fetching/parsing multiple items: {e}\")\n",
    "    except Exception as e:\n",
    "        print(f\"An unexpected error occurred during multi-item parsing: {e}\")"
   ]
  },
  {
   "cell_type": "code",
   "execution_count": null,
   "id": "caa89370",
   "metadata": {},
   "outputs": [],
   "source": [
    "df = generate_dataset(item_set_id=8599)\n",
    "df.head()"
   ]
  },
  {
   "cell_type": "code",
   "execution_count": null,
   "id": "4cb14469",
   "metadata": {},
   "outputs": [],
   "source": [
    "df[\"id\"] = range(1, len(df) + 1)\n",
    "df = reorder_columns(df,[\"id\",\"item_id\", \"Identifier\", \"images_urls\",\"Iitle\"])"
   ]
  },
  {
   "cell_type": "markdown",
   "id": "f7bab16c",
   "metadata": {},
   "source": [
    "# Push to Hub"
   ]
  },
  {
   "cell_type": "code",
   "execution_count": null,
   "id": "51726387",
   "metadata": {},
   "outputs": [],
   "source": [
    "dataset = Dataset.from_pandas(df)\n",
    "dataset"
   ]
  },
  {
   "cell_type": "code",
   "execution_count": null,
   "id": "dcd574be",
   "metadata": {},
   "outputs": [],
   "source": [
    "dataset.push_to_hub(\"<YOUR_HF_REPO>\", private=False)"
   ]
  }
 ],
 "metadata": {
  "kernelspec": {
   "display_name": ".venv",
   "language": "python",
   "name": "python3"
  },
  "language_info": {
   "codemirror_mode": {
    "name": "ipython",
    "version": 3
   },
   "file_extension": ".py",
   "mimetype": "text/x-python",
   "name": "python",
   "nbconvert_exporter": "python",
   "pygments_lexer": "ipython3",
   "version": "3.12.4"
  }
 },
 "nbformat": 4,
 "nbformat_minor": 5
}
